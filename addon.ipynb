{
  "nbformat": 4,
  "nbformat_minor": 0,
  "metadata": {
    "colab": {
      "provenance": []
    },
    "kernelspec": {
      "name": "python3",
      "display_name": "Python 3"
    },
    "language_info": {
      "name": "python"
    }
  },
  "cells": [
    {
      "cell_type": "code",
      "execution_count": null,
      "metadata": {
        "colab": {
          "base_uri": "https://localhost:8080/"
        },
        "id": "uZILceWz1EyP",
        "outputId": "7ba3874a-8628-409d-b67d-38755eb33af4"
      },
      "outputs": [
        {
          "output_type": "stream",
          "name": "stdout",
          "text": [
            "enter the price of the tv:57575757\n",
            "we will look another one\n"
          ]
        }
      ],
      "source": [
        "price_tv = int(input('enter the price of the tv:'))\n",
        "if price_tv <= 25000:\n",
        "  print('please pack it')\n",
        " else:\n",
        "    print('we will look another one')"
      ]
    },
    {
      "cell_type": "code",
      "source": [
        "# WAP to print if a given number is even or odd\n",
        "num = int (input('enter the number:'))\n",
        "if num%2==0:\n",
        "  print(num,'is even')\n",
        "else:\n",
        "  print(num,'is odd')\n"
      ],
      "metadata": {
        "colab": {
          "base_uri": "https://localhost:8080/"
        },
        "id": "3VqZm9H624Z1",
        "outputId": "d414c4b1-ca09-4df4-9ae2-9286ef2f4f8c"
      },
      "execution_count": null,
      "outputs": [
        {
          "output_type": "stream",
          "name": "stdout",
          "text": [
            "enter the number:454\n",
            "454 is even\n"
          ]
        }
      ]
    },
    {
      "cell_type": "markdown",
      "source": [
        "\n",
        "\n",
        "```\n",
        "emi option\n",
        "\n",
        "```\n",
        "\n"
      ],
      "metadata": {
        "id": "cCL3m4lc4zXM"
      }
    },
    {
      "cell_type": "code",
      "source": [
        "a = 12\n",
        "b = 32\n",
        "c = 26\n",
        "if a>b and a>c:\n",
        "  print(a,'is the biggest')\n",
        "elif b>a and b>c:\n",
        "  print(b,'is the biggest')\n",
        "else:\n",
        "  print(c,'is the biggest')\n",
        "\n"
      ],
      "metadata": {
        "colab": {
          "base_uri": "https://localhost:8080/"
        },
        "id": "RkdQVD-l48uW",
        "outputId": "98fb54be-e7bd-425b-db31-d4c387c577c9"
      },
      "execution_count": null,
      "outputs": [
        {
          "output_type": "stream",
          "name": "stdout",
          "text": [
            "32 is the biggest\n"
          ]
        }
      ]
    },
    {
      "cell_type": "markdown",
      "source": [
        "**loop**\n",
        "itterative statement\n"
      ],
      "metadata": {
        "id": "SZ-p67fN6o0l"
      }
    },
    {
      "cell_type": "code",
      "source": [
        "# for loop\n",
        "for num in range(0,11):\n",
        "  print(num)"
      ],
      "metadata": {
        "colab": {
          "base_uri": "https://localhost:8080/"
        },
        "id": "0oAxNMPQ6qwU",
        "outputId": "9a1e1040-7ce3-44b1-a258-7f4bc9250fe8"
      },
      "execution_count": null,
      "outputs": [
        {
          "output_type": "stream",
          "name": "stdout",
          "text": [
            "0\n",
            "1\n",
            "2\n",
            "3\n",
            "4\n",
            "5\n",
            "6\n",
            "7\n",
            "8\n",
            "9\n",
            "10\n"
          ]
        }
      ]
    },
    {
      "cell_type": "code",
      "source": [
        "for num in range(10,0,-1):\n",
        "  print(num)"
      ],
      "metadata": {
        "colab": {
          "base_uri": "https://localhost:8080/"
        },
        "id": "Bs-nRbed8RCM",
        "outputId": "a64b9ca8-884d-4e0d-baeb-5f7f7968e40c"
      },
      "execution_count": null,
      "outputs": [
        {
          "output_type": "stream",
          "name": "stdout",
          "text": [
            "10\n",
            "9\n",
            "8\n",
            "7\n",
            "6\n",
            "5\n",
            "4\n",
            "3\n",
            "2\n",
            "1\n"
          ]
        }
      ]
    },
    {
      "cell_type": "code",
      "source": [
        "# WAP to find the squares of all even numbers between 1-10\n",
        "for num in range(1,11):\n",
        "  if num%2==0:\n",
        "    print(num*num)"
      ],
      "metadata": {
        "colab": {
          "base_uri": "https://localhost:8080/"
        },
        "id": "SDJFNrld-1s7",
        "outputId": "e7dc6312-6a5f-40b9-8dee-2525caa44fa3"
      },
      "execution_count": null,
      "outputs": [
        {
          "output_type": "stream",
          "name": "stdout",
          "text": [
            "4\n",
            "16\n",
            "36\n",
            "64\n",
            "100\n"
          ]
        }
      ]
    },
    {
      "cell_type": "code",
      "source": [
        "'''WAP to get a limit as input from the user and find the sum of all numbers till the limit'''\n",
        "lim = int(input('enter the limit:'))\n",
        "sum = 0\n",
        "for num in range(1,lim+1):\n",
        "  sum=sum+sum\n",
        "print('sum=',sum)"
      ],
      "metadata": {
        "colab": {
          "base_uri": "https://localhost:8080/"
        },
        "id": "a8JfPyhvA1l9",
        "outputId": "d6fd7ad6-50e7-4d01-ca42-76295a55b7c5"
      },
      "execution_count": null,
      "outputs": [
        {
          "output_type": "stream",
          "name": "stdout",
          "text": [
            "enter the limit:5\n",
            "sum= 0\n"
          ]
        }
      ]
    },
    {
      "cell_type": "code",
      "source": [
        "''' WAP to count the number divisible by 3 from 5 to 500'''\n",
        "count = 0\n",
        "\n",
        "for num in range(5, 501):\n",
        "    if num % 3 == 0:\n",
        "        count += 1\n",
        "\n",
        "print(\"Number of integers divisible by 3 from 5 to 500:\", count)\n",
        "\n"
      ],
      "metadata": {
        "id": "j7vHN92tCuHb",
        "colab": {
          "base_uri": "https://localhost:8080/"
        },
        "outputId": "be3dcb33-f4f0-4cc5-ac77-48320f40ac61"
      },
      "execution_count": 36,
      "outputs": [
        {
          "output_type": "stream",
          "name": "stdout",
          "text": [
            "Number of integers divisible by 3 from 5 to 500: 165\n"
          ]
        }
      ]
    },
    {
      "cell_type": "code",
      "source": [
        "'''WAP to print the sum of elements in a given list'''\n",
        "s = 0\n",
        "l1= [25,32,88,79,52,46]\n",
        "for n in l1:\n",
        " s=s+n\n",
        " print(s)\n",
        "\n"
      ],
      "metadata": {
        "id": "1CC-gQPlDrDu",
        "colab": {
          "base_uri": "https://localhost:8080/"
        },
        "outputId": "ede0f9e6-9236-44b3-e7be-ce8138f538f4"
      },
      "execution_count": null,
      "outputs": [
        {
          "output_type": "stream",
          "name": "stdout",
          "text": [
            "25\n",
            "57\n",
            "145\n",
            "224\n",
            "276\n",
            "322\n"
          ]
        }
      ]
    },
    {
      "cell_type": "code",
      "source": [
        "# while loop\n",
        "i=0\n",
        "while(i!=10):\n",
        "  print(i)\n",
        "  i+=2"
      ],
      "metadata": {
        "colab": {
          "base_uri": "https://localhost:8080/"
        },
        "id": "Fz_GOH9MPp6T",
        "outputId": "d7789820-05a3-4ca3-8976-35b729966d68"
      },
      "execution_count": null,
      "outputs": [
        {
          "output_type": "stream",
          "name": "stdout",
          "text": [
            "0\n",
            "2\n",
            "4\n",
            "6\n",
            "8\n"
          ]
        }
      ]
    },
    {
      "cell_type": "code",
      "source": [
        "l1 = [5,15,22,32,46,89]\n",
        "even = []\n",
        "odd = []\n",
        "\n",
        "while len(l1)>0:\n",
        "  l=l1.pop()\n",
        "  if 1%2==0:\n",
        "    even.append(3)\n",
        "else:\n",
        "      odd.append(3)\n",
        "print(even)\n",
        "print(odd)"
      ],
      "metadata": {
        "colab": {
          "base_uri": "https://localhost:8080/"
        },
        "id": "cT8ZQBbQRElf",
        "outputId": "36ce1f47-68ae-4329-add1-59004a0a2a47"
      },
      "execution_count": null,
      "outputs": [
        {
          "output_type": "stream",
          "name": "stdout",
          "text": [
            "[]\n",
            "[3]\n"
          ]
        }
      ]
    },
    {
      "cell_type": "code",
      "source": [
        "''' WAP that allows the user to input the name until the user decide to stop. then, print all the names the user has entered'''\n",
        "na,e_l = []\n",
        "a = ''\n",
        "while (a!='NO'):\n",
        "  name = input(' Enter name:')\n",
        "  a = input('do you want to continue, enter No to stop:')\n",
        "  a=a.upper()\n",
        "  name_1.append(name)\n",
        "print('The entered names are:', name_1)\n",
        "\n"
      ],
      "metadata": {
        "id": "YbS8bs0MSOWC",
        "colab": {
          "base_uri": "https://localhost:8080/",
          "height": 211
        },
        "outputId": "cf59d80b-b57e-446d-cf4f-6a1def2ba44c"
      },
      "execution_count": 46,
      "outputs": [
        {
          "output_type": "error",
          "ename": "ValueError",
          "evalue": "not enough values to unpack (expected 2, got 0)",
          "traceback": [
            "\u001b[0;31m---------------------------------------------------------------------------\u001b[0m",
            "\u001b[0;31mValueError\u001b[0m                                Traceback (most recent call last)",
            "\u001b[0;32m<ipython-input-46-a0327392f0f9>\u001b[0m in \u001b[0;36m<cell line: 2>\u001b[0;34m()\u001b[0m\n\u001b[1;32m      1\u001b[0m \u001b[0;34m''' WAP that allows the user to input the name until the user decide to stop. then, print all the names the user has entered'''\u001b[0m\u001b[0;34m\u001b[0m\u001b[0;34m\u001b[0m\u001b[0m\n\u001b[0;32m----> 2\u001b[0;31m \u001b[0mna\u001b[0m\u001b[0;34m,\u001b[0m\u001b[0me_l\u001b[0m \u001b[0;34m=\u001b[0m \u001b[0;34m[\u001b[0m\u001b[0;34m]\u001b[0m\u001b[0;34m\u001b[0m\u001b[0;34m\u001b[0m\u001b[0m\n\u001b[0m\u001b[1;32m      3\u001b[0m \u001b[0ma\u001b[0m \u001b[0;34m=\u001b[0m \u001b[0;34m''\u001b[0m\u001b[0;34m\u001b[0m\u001b[0;34m\u001b[0m\u001b[0m\n\u001b[1;32m      4\u001b[0m \u001b[0;32mwhile\u001b[0m \u001b[0;34m(\u001b[0m\u001b[0ma\u001b[0m\u001b[0;34m!=\u001b[0m\u001b[0;34m'NO'\u001b[0m\u001b[0;34m)\u001b[0m\u001b[0;34m:\u001b[0m\u001b[0;34m\u001b[0m\u001b[0;34m\u001b[0m\u001b[0m\n\u001b[1;32m      5\u001b[0m   \u001b[0mname\u001b[0m \u001b[0;34m=\u001b[0m \u001b[0minput\u001b[0m\u001b[0;34m(\u001b[0m\u001b[0;34m' Enter name:'\u001b[0m\u001b[0;34m)\u001b[0m\u001b[0;34m\u001b[0m\u001b[0;34m\u001b[0m\u001b[0m\n",
            "\u001b[0;31mValueError\u001b[0m: not enough values to unpack (expected 2, got 0)"
          ]
        }
      ]
    },
    {
      "cell_type": "code",
      "source": [
        "# continue\n",
        "i =1\n",
        "while(i,10):\n",
        "  if i==5:\n",
        "    i+=1\n",
        "    continue\n",
        "print(i)\n",
        "i=i+1\n",
        "\n"
      ],
      "metadata": {
        "id": "tfubBx8xYTJJ"
      },
      "execution_count": null,
      "outputs": []
    },
    {
      "cell_type": "code",
      "source": [],
      "metadata": {
        "id": "_VjLwtpnU0qU"
      },
      "execution_count": null,
      "outputs": []
    }
  ]
}